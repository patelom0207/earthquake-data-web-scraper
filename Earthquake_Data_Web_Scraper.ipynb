{
  "nbformat": 4,
  "nbformat_minor": 0,
  "metadata": {
    "colab": {
      "provenance": []
    },
    "kernelspec": {
      "name": "python3",
      "display_name": "Python 3"
    },
    "language_info": {
      "name": "python"
    }
  },
  "cells": [
    {
      "cell_type": "markdown",
      "source": [
        "# Imports"
      ],
      "metadata": {
        "id": "XSRvhgRzHsAt"
      }
    },
    {
      "cell_type": "code",
      "execution_count": 11,
      "metadata": {
        "id": "Gf85BRY_HMgi"
      },
      "outputs": [],
      "source": [
        "import urllib.request\n",
        "import json\n",
        "import csv\n",
        "from google.colab import files"
      ]
    },
    {
      "cell_type": "markdown",
      "source": [
        "#Prompt User for Input and Print Results"
      ],
      "metadata": {
        "id": "zK6RegurH2s8"
      }
    },
    {
      "cell_type": "code",
      "source": [
        "#Prompt the user to input a magnitude paramter of type floating point\n",
        "def getMagnitude():\n",
        "  global userMagnitude\n",
        "  magnitude = float(input(\"Please enter an earthquake magnitude (0.0 - 10.0): \"))\n",
        "  while True:\n",
        "    if 0.0 <= magnitude <= 10.0:\n",
        "      userMagnitude = magnitude\n",
        "      return magnitude\n",
        "    else:\n",
        "      print(\"Invalid Input. Magnitude must be between 0.0 and 10.0\")\n",
        "\n",
        "#Provide a prompt to the user to end the program or input another magnitude number\n",
        "def promptForEnd():\n",
        "  while True:\n",
        "    choice = input(\"Would you like to input another magnitude (Yes or No)? \").strip().capitalize()\n",
        "    if choice == \"Yes\":\n",
        "      return True\n",
        "    elif choice == \"No\":\n",
        "      return False\n",
        "    else:\n",
        "      print(\"Invalid Input. Please enter 'Yes' or 'No'.\")\n",
        "\n",
        "#Print results based on data and magnitude\n",
        "def printResults(data, userMagnitude):\n",
        "  jsonData = json.loads(data.decode(\"utf-8\"))\n",
        "\n",
        "  print(f\"Metadata Title: {jsonData['metadata']['title']}\")\n",
        "  print(f\"Number of Earthquake Events: {jsonData['metadata']['count']}\")\n",
        "\n",
        "  for feature in jsonData['features']:\n",
        "    property = feature['properties']\n",
        "    location = property['place']\n",
        "    magnitude = property['mag']\n",
        "\n",
        "    if magnitude > userMagnitude:\n",
        "      print(f\"Location: {location}, Magnitude: {magnitude}\")\n",
        "\n",
        "#Return the earthquake data in a list of dictionaries\n",
        "def printResults2(data, userMagnitude):\n",
        "  jsonData = json.loads(data.decode(\"utf-8\"))\n",
        "  earthquakeData = []\n",
        "\n",
        "  for feature in jsonData['features']:\n",
        "    properties = feature['properties']\n",
        "    title = properties['title']\n",
        "    place = properties['place']\n",
        "    magnitude = properties['mag']\n",
        "    time = properties['time']\n",
        "\n",
        "    if magnitude > userMagnitude:\n",
        "      earthquakeData.append({\n",
        "          'Title': title,\n",
        "          'Magnitude': magnitude,\n",
        "          'Location': place,\n",
        "          'Time': time\n",
        "      })\n",
        "  return earthquakeData\n",
        "\n",
        "#Search based on a specified field\n",
        "def printResults3(data, searchField, searchValue):\n",
        "  jsonData = json.loads(data.decode(\"utf-8\"))\n",
        "  matchingResults = []\n",
        "\n",
        "  for feature in jsonData['features']:\n",
        "    properties = feature['properties']\n",
        "    if searchField in properties and properties[searchField] == searchValue:\n",
        "      title = properties['title']\n",
        "      magnitude = properties['mag']\n",
        "      place = properties['place']\n",
        "      time = properties['time']\n",
        "      matchingResults.append({\n",
        "          \"Title\": title,\n",
        "          \"Magnitude\": magnitude,\n",
        "          \"Location\": place,\n",
        "          \"Time\": time\n",
        "      })\n",
        "\n",
        "  for result in matchingResults:\n",
        "    print(f\"Title: {result['Title']} | \", end = \"\")\n",
        "    print(f\"Magnitude: {result['Magnitude']} | \", end = \"\")\n",
        "    print(f\"Location: {result['Location']} | \", end = \"\")\n",
        "    print(f\"Time: {result['Time']}\")"
      ],
      "metadata": {
        "id": "rZ4Bwz1eIEbO"
      },
      "execution_count": 12,
      "outputs": []
    },
    {
      "cell_type": "markdown",
      "source": [
        "# Get Earthquake Data"
      ],
      "metadata": {
        "id": "JjX9fJlKLEWt"
      }
    },
    {
      "cell_type": "code",
      "source": [
        "#Get earthquake data from the US Geological Services API\n",
        "def getData():\n",
        "  api_url = \"https://earthquake.usgs.gov/earthquakes/feed/v1.0/summary/all_day.geojson\"\n",
        "\n",
        "  respone = urllib.request.urlopen(api_url)\n",
        "\n",
        "  statusCode = response.getcode()\n",
        "  print(f\"HTTPS Status Code: {statusCode}\")\n",
        "\n",
        "  if statusCode == 200:\n",
        "    data = response.read()\n",
        "    userMagnitude = getMagnitude()\n",
        "    printResults(data, userMagnitude)\n",
        "  else:\n",
        "    print(f\"Error Non-Valid Status Code: {statusCode}\")"
      ],
      "metadata": {
        "id": "PTw_jKWaLD0D"
      },
      "execution_count": 13,
      "outputs": []
    },
    {
      "cell_type": "markdown",
      "source": [
        "# Output Data to Spreadsheet"
      ],
      "metadata": {
        "id": "Dag7e65oKWuT"
      }
    },
    {
      "cell_type": "code",
      "source": [
        "#Save earthquake data to a CSV file\n",
        "def saveCSV(earthquakeData, filename = \"earthquakeData.csv\"):\n",
        "  fieldnames = ['Title', 'Magnitude', 'Location', 'Time']\n",
        "  with open(filename, 'w', newline='') as csvfile:\n",
        "    writer = csv.DictWriter(csvfile, fieldnames=fieldnames)\n",
        "    writer.writeheader()\n",
        "\n",
        "    for row in earthquakeData:\n",
        "      writer.writerow(row)\n",
        "\n",
        "  print(f\"Data successfully saved to filename: {filename}\")\n",
        "  files.download(filename)"
      ],
      "metadata": {
        "id": "5gUW2BE1KkPj"
      },
      "execution_count": 14,
      "outputs": []
    },
    {
      "cell_type": "markdown",
      "source": [
        "# Main Function"
      ],
      "metadata": {
        "id": "NLKAb5sGMk64"
      }
    },
    {
      "cell_type": "code",
      "source": [
        "def main():\n",
        "  while True:\n",
        "    url = \"https://earthquake.usgs.gov/earthquakes/feed/v1.0/summary/all_day.geojson\"\n",
        "    response = urllib.request.urlopen(url)\n",
        "    data = response.read()\n",
        "\n",
        "    userMagnitude = getMagnitude()\n",
        "    earthquakeData = printResults2(data, userMagnitude)\n",
        "    saveCSV(earthquakeData)\n",
        "    while True:\n",
        "      search = input(\"Would you like to search for a specific field (Yes or No)? \").capitalize()\n",
        "      if search == \"Yes\":\n",
        "        searchField = input(\"Enter the field you want to seach (ex. 'place' or 'mag'): \")\n",
        "        searchValue = input(f\"Enter the value you want to search for in {searchField}: \")\n",
        "        printResults3(data, searchField, searchValue)\n",
        "      elif search == \"No\":\n",
        "        break\n",
        "      else:\n",
        "        print(\"Invalid input. Please enter either 'Yes' or 'No'.\")\n",
        "    if not promptForEnd():\n",
        "      break\n",
        "\n",
        "main()"
      ],
      "metadata": {
        "colab": {
          "base_uri": "https://localhost:8080/",
          "height": 139
        },
        "id": "1oWnoUazMn-u",
        "outputId": "c86181ce-b6b8-4c5c-c971-2d076c5544c3"
      },
      "execution_count": 15,
      "outputs": [
        {
          "output_type": "stream",
          "name": "stdout",
          "text": [
            "Please enter an earthquake magnitude (0.0 - 10.0): 7.2\n",
            "Data successfully saved to filename: earthquakeData.csv\n"
          ]
        },
        {
          "output_type": "display_data",
          "data": {
            "text/plain": [
              "<IPython.core.display.Javascript object>"
            ],
            "application/javascript": [
              "\n",
              "    async function download(id, filename, size) {\n",
              "      if (!google.colab.kernel.accessAllowed) {\n",
              "        return;\n",
              "      }\n",
              "      const div = document.createElement('div');\n",
              "      const label = document.createElement('label');\n",
              "      label.textContent = `Downloading \"${filename}\": `;\n",
              "      div.appendChild(label);\n",
              "      const progress = document.createElement('progress');\n",
              "      progress.max = size;\n",
              "      div.appendChild(progress);\n",
              "      document.body.appendChild(div);\n",
              "\n",
              "      const buffers = [];\n",
              "      let downloaded = 0;\n",
              "\n",
              "      const channel = await google.colab.kernel.comms.open(id);\n",
              "      // Send a message to notify the kernel that we're ready.\n",
              "      channel.send({})\n",
              "\n",
              "      for await (const message of channel.messages) {\n",
              "        // Send a message to notify the kernel that we're ready.\n",
              "        channel.send({})\n",
              "        if (message.buffers) {\n",
              "          for (const buffer of message.buffers) {\n",
              "            buffers.push(buffer);\n",
              "            downloaded += buffer.byteLength;\n",
              "            progress.value = downloaded;\n",
              "          }\n",
              "        }\n",
              "      }\n",
              "      const blob = new Blob(buffers, {type: 'application/binary'});\n",
              "      const a = document.createElement('a');\n",
              "      a.href = window.URL.createObjectURL(blob);\n",
              "      a.download = filename;\n",
              "      div.appendChild(a);\n",
              "      a.click();\n",
              "      div.remove();\n",
              "    }\n",
              "  "
            ]
          },
          "metadata": {}
        },
        {
          "output_type": "display_data",
          "data": {
            "text/plain": [
              "<IPython.core.display.Javascript object>"
            ],
            "application/javascript": [
              "download(\"download_07076c16-78a5-4164-9eee-0a2f456001a8\", \"earthquakeData.csv\", 31)"
            ]
          },
          "metadata": {}
        },
        {
          "name": "stdout",
          "output_type": "stream",
          "text": [
            "Would you like to search for a specific field (Yes or No)? Yes\n",
            "Enter the field you want to seach (ex. 'place' or 'mag'): mag\n",
            "Enter the value you want to search for in mag: 6.4\n",
            "Would you like to search for a specific field (Yes or No)? No\n",
            "Would you like to input another magnitude (Yes or No)? No\n"
          ]
        }
      ]
    }
  ]
}